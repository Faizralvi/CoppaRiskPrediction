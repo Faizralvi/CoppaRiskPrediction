{
 "cells": [
  {
   "cell_type": "markdown",
   "metadata": {},
   "source": [
    "# **Import Library**"
   ]
  },
  {
   "cell_type": "code",
   "execution_count": 2,
   "metadata": {
    "_cell_guid": "b1076dfc-b9ad-4769-8c92-a6c4dae69d19",
    "_uuid": "8f2839f25d086af736a60e9eeb907d3b93b6e0e5",
    "execution": {
     "iopub.execute_input": "2025-04-23T11:11:00.605061Z",
     "iopub.status.busy": "2025-04-23T11:11:00.604786Z",
     "iopub.status.idle": "2025-04-23T11:11:05.460842Z",
     "shell.execute_reply": "2025-04-23T11:11:05.459877Z",
     "shell.execute_reply.started": "2025-04-23T11:11:00.605028Z"
    },
    "trusted": true
   },
   "outputs": [],
   "source": [
    "import pandas as pd\n",
    "import numpy as np\n",
    "import matplotlib.pyplot as plt\n",
    "import seaborn as sns\n",
    "\n",
    "from sklearn.ensemble import RandomForestClassifier, GradientBoostingClassifier, AdaBoostClassifier, HistGradientBoostingClassifier\n",
    "from sklearn.model_selection import train_test_split\n",
    "from sklearn.metrics import (\n",
    "    accuracy_score, precision_score, recall_score, \n",
    "    f1_score, balanced_accuracy_score, roc_auc_score\n",
    ")\n",
    "from sklearn.impute import KNNImputer\n",
    "from sklearn.preprocessing import StandardScaler, MinMaxScaler, RobustScaler, MaxAbsScaler\n",
    "\n",
    "# Models\n",
    "from sklearn.ensemble import VotingClassifier\n",
    "from sklearn.linear_model import LogisticRegression\n",
    "from sklearn.ensemble import RandomForestClassifier, GradientBoostingClassifier, AdaBoostClassifier, HistGradientBoostingClassifier\n",
    "from xgboost import XGBClassifier\n",
    "from catboost import CatBoostClassifier\n",
    "\n",
    "\n"
   ]
  },
  {
   "cell_type": "markdown",
   "metadata": {},
   "source": [
    "# **Import Data**"
   ]
  },
  {
   "cell_type": "code",
   "execution_count": 3,
   "metadata": {
    "execution": {
     "iopub.execute_input": "2025-04-23T11:11:07.893808Z",
     "iopub.status.busy": "2025-04-23T11:11:07.893500Z",
     "iopub.status.idle": "2025-04-23T11:11:07.941465Z",
     "shell.execute_reply": "2025-04-23T11:11:07.940753Z",
     "shell.execute_reply.started": "2025-04-23T11:11:07.893780Z"
    },
    "trusted": true
   },
   "outputs": [],
   "source": [
    "train = pd.read_csv(\"/Users/faizralvi/Documents/Find-IT/dataset/train.csv\")\n",
    "test = pd.read_csv(\"/Users/faizralvi/Documents/Find-IT/dataset/test.csv\")\n",
    "target = pd.read_csv(\"/Users/faizralvi/Documents/Find-IT/dataset/target.csv\")\n",
    "target['coppaRisk'] = target['coppaRisk'].astype(int)\n",
    "train = pd.concat([train, target], axis=1)\n",
    "id = test[['ID']]\n"
   ]
  },
  {
   "cell_type": "markdown",
   "metadata": {},
   "source": [
    "# **Feature Enginering**"
   ]
  },
  {
   "cell_type": "code",
   "execution_count": 4,
   "metadata": {
    "execution": {
     "iopub.execute_input": "2025-04-23T11:11:08.757714Z",
     "iopub.status.busy": "2025-04-23T11:11:08.757167Z",
     "iopub.status.idle": "2025-04-23T11:11:08.773876Z",
     "shell.execute_reply": "2025-04-23T11:11:08.772978Z",
     "shell.execute_reply.started": "2025-04-23T11:11:08.757690Z"
    },
    "trusted": true
   },
   "outputs": [],
   "source": [
    "country_mapping = {\n",
    "    'VIET NAM': 'VIETNAM',\n",
    "    'VENEZUELA': 'VENEZUELA (BOLIVARIAN REPUBLIC OF)',\n",
    "    'COTE D\\'IVOIRE': 'IVORY COAST',\n",
    "    'TAIWAN, PROVINCE OF CHINA': 'TAIWAN',\n",
    "}\n",
    "\n",
    "train['developerCountry'] = train['developerCountry'].replace(country_mapping)\n",
    "test['developerCountry'] = test['developerCountry'].replace(country_mapping)\n",
    "\n",
    "# Replace error and unknown entries with 'UNKNOWN'\n",
    "error_values = [\n",
    "    'CANNOT IDENTIFY COUNTRY', 'PERSONAL DATA, CAN NOT BE PUBLICLY DISCLOSED ACCORDING TO APPLICABLE LAWS.',\n",
    "    'STATUTORY MASKING ENABLED', 'ADDRESS NOT LISTED IN PLAYSTORE', 'UNKNOWN', \n",
    "    'NO COUNTRY'\n",
    "]\n",
    "\n",
    "train['developerCountry'] = train['developerCountry'].replace(error_values, 'UNKNOWN')\n",
    "test['developerCountry'] = test['developerCountry'].replace(error_values, 'UNKNOWN')\n",
    "\n",
    "# Contoh Python\n",
    "known_countries = set(train['developerCountry'].unique())\n",
    "test['developerCountry'] = test['developerCountry'].apply(\n",
    "    lambda x: x if x in known_countries else 'UNKNOWN'\n",
    ")"
   ]
  },
  {
   "cell_type": "code",
   "execution_count": 5,
   "metadata": {
    "execution": {
     "iopub.execute_input": "2025-04-23T11:11:12.990816Z",
     "iopub.status.busy": "2025-04-23T11:11:12.990543Z",
     "iopub.status.idle": "2025-04-23T11:11:13.009150Z",
     "shell.execute_reply": "2025-04-23T11:11:13.008236Z",
     "shell.execute_reply.started": "2025-04-23T11:11:12.990797Z"
    },
    "trusted": true
   },
   "outputs": [
    {
     "data": {
      "text/plain": [
       "GLOBAL    5802\n",
       "EMEA       507\n",
       "APAC       341\n",
       "LATAM      143\n",
       "NA         122\n",
       "AFRICA       1\n",
       "Name: countryCodess, dtype: int64"
      ]
     },
     "execution_count": 5,
     "metadata": {},
     "output_type": "execute_result"
    }
   ],
   "source": [
    "country_to_region = {\n",
    "    # North America\n",
    "    'US': 'NA', 'CA': 'NA', 'MX': 'NA',\n",
    "\n",
    "    # Latin America\n",
    "    'BR': 'LATAM', 'AR': 'LATAM', 'CL': 'LATAM', 'PE': 'LATAM', 'CO': 'LATAM', 'GT': 'LATAM', 'EC': 'LATAM',\n",
    "    'HN': 'LATAM', 'PY': 'LATAM', 'UY': 'LATAM', 'SV': 'LATAM', 'CR': 'LATAM', 'NI': 'LATAM', 'DO': 'LATAM',\n",
    "\n",
    "    # Europe, Middle East, Africa\n",
    "    'FR': 'EMEA', 'DE': 'EMEA', 'IT': 'EMEA', 'GB': 'EMEA', 'ES': 'EMEA', 'NL': 'EMEA', 'SE': 'EMEA', 'PL': 'EMEA',\n",
    "    'RO': 'EMEA', 'CZ': 'EMEA', 'HR': 'EMEA', 'BE': 'EMEA', 'PT': 'EMEA', 'FI': 'EMEA', 'GR': 'EMEA', 'AT': 'EMEA',\n",
    "    'SK': 'EMEA', 'UA': 'EMEA', 'RU': 'EMEA', 'KZ': 'EMEA', 'BY': 'EMEA', 'AM': 'EMEA', 'AZ': 'EMEA', 'GE': 'EMEA',\n",
    "    'TR': 'EMEA', 'SA': 'EMEA', 'AE': 'EMEA', 'EG': 'EMEA', 'ZA': 'EMEA', 'NG': 'EMEA', 'UG': 'EMEA', 'KE': 'EMEA',\n",
    "    'SD': 'EMEA', 'LY': 'EMEA', 'DZ': 'EMEA', 'MA': 'EMEA', 'TN': 'EMEA', 'SN': 'EMEA', 'CI': 'EMEA', 'BJ': 'EMEA',\n",
    "\n",
    "    # Asia Pacific\n",
    "    'ID': 'APAC', 'SG': 'APAC', 'MY': 'APAC', 'PH': 'APAC', 'TH': 'APAC', 'VN': 'APAC', 'BD': 'APAC', 'IN': 'APAC',\n",
    "    'PK': 'APAC', 'CN': 'APAC', 'HK': 'APAC', 'JP': 'APAC', 'KR': 'APAC', 'AU': 'APAC', 'NZ': 'APAC', 'MM': 'APAC',\n",
    "    'KH': 'APAC', 'MN': 'APAC', 'LK': 'APAC', 'TW': 'APAC', 'AF': 'APAC',\n",
    "\n",
    "    # Others (optional)\n",
    "    'GLOBAL': 'GLOBAL', 'NA': 'NA', 'EMEA': 'EMEA', 'LATAM': 'LATAM', 'APAC': 'APAC'\n",
    "}\n",
    "\n",
    "country_to_region.update({\n",
    "    # EMEA tambahan\n",
    "    'BG': 'EMEA', 'KG': 'EMEA', 'UZ': 'EMEA', 'NO': 'EMEA', 'PS': 'EMEA', 'OM': 'EMEA',\n",
    "    'JO': 'EMEA', 'QA': 'EMEA', 'CH': 'EMEA', 'LB': 'EMEA', 'CY': 'EMEA', 'HU': 'EMEA',\n",
    "    'RS': 'EMEA', 'DK': 'EMEA', 'IL': 'EMEA', 'IE': 'EMEA', 'BH': 'EMEA', 'MK': 'EMEA',\n",
    "    'VE': 'EMEA', 'DJ': 'EMEA', 'YE': 'EMEA', 'CM': 'EMEA', 'RE': 'EMEA', 'AL': 'EMEA',\n",
    "    'MD': 'EMEA', 'ZW': 'EMEA',\n",
    "\n",
    "    # LATAM tambahan\n",
    "    'SX': 'LATAM', 'PR': 'LATAM', 'GY': 'LATAM', 'VE': 'LATAM', 'JM': 'LATAM',\n",
    "\n",
    "    # APAC tambahan\n",
    "    'SL': 'APAC', 'GU': 'APAC', 'EE': 'APAC', 'NP': 'APAC', 'ET': 'APAC', 'KG': 'APAC',\n",
    "\n",
    "    # fallback\n",
    "    'CD': 'AFRICA',  # DR Congo, biasanya dimasukkan ke Afrika\n",
    "    'GP': 'LATAM',   # Guadeloupe\n",
    "})\n",
    "\n",
    "train['countryCodess'] = train['countryCode'].map(country_to_region)\n",
    "test['countryCodess'] = test['countryCode'].map(country_to_region)\n",
    "train['countryCodess'].value_counts()"
   ]
  },
  {
   "cell_type": "code",
   "execution_count": 6,
   "metadata": {
    "execution": {
     "iopub.execute_input": "2025-04-23T11:11:13.243859Z",
     "iopub.status.busy": "2025-04-23T11:11:13.243517Z",
     "iopub.status.idle": "2025-04-23T11:11:13.251685Z",
     "shell.execute_reply": "2025-04-23T11:11:13.250798Z",
     "shell.execute_reply.started": "2025-04-23T11:11:13.243802Z"
    },
    "trusted": true
   },
   "outputs": [],
   "source": [
    "genre_mapping = {\n",
    "    'Magazines & Newspapers': 'News & Magazines',\n",
    "}\n",
    "\n",
    "train['primaryGenreName'] = train['primaryGenreName'].replace(genre_mapping)\n",
    "test['primaryGenreName'] = test['primaryGenreName'].replace(genre_mapping)\n",
    "\n"
   ]
  },
  {
   "cell_type": "code",
   "execution_count": 7,
   "metadata": {
    "execution": {
     "iopub.execute_input": "2025-04-23T11:11:15.637059Z",
     "iopub.status.busy": "2025-04-23T11:11:15.636367Z",
     "iopub.status.idle": "2025-04-23T11:11:15.822618Z",
     "shell.execute_reply": "2025-04-23T11:11:15.821700Z",
     "shell.execute_reply.started": "2025-04-23T11:11:15.637033Z"
    },
    "trusted": true
   },
   "outputs": [],
   "source": [
    "train['countryCode_developerCountry'] = train['countryCode'].astype(str) + \"/\" + train[\"developerCountry\"]\n",
    "test['countryCode_developerCountry'] = test['countryCode'].astype(str) + \"/\" + test[\"developerCountry\"]\n",
    "\n",
    "train['countryCode_primaryGenreName'] = train['countryCode'].astype(str) + \"/\" + train[\"primaryGenreName\"]\n",
    "test['countryCode_primaryGenreName'] = test['countryCode'].astype(str) + \"/\" + test[\"primaryGenreName\"]\n",
    "\n",
    "train['countryCode_deviceType'] = train['countryCode'].astype(str) + \"/\" + train[\"deviceType\"]\n",
    "test['countryCode_deviceType'] = test['countryCode'].astype(str) + \"/\" + test[\"deviceType\"]\n",
    "\n",
    "train['countryCode_appDescriptionBrandSafetyRating'] = train['countryCode'].astype(str) + \"/\" + train[\"appDescriptionBrandSafetyRating\"].astype(str)\n",
    "test['countryCode_appDescriptionBrandSafetyRating'] = test['countryCode'].astype(str) + \"/\" + test[\"appDescriptionBrandSafetyRating\"].astype(str)\n",
    "\n",
    "train['countryCode_averageUserRating'] = train['countryCode'].astype(str) + \"/\" + train[\"averageUserRating\"].astype(str)\n",
    "test['countryCode_averageUserRating'] = test['countryCode'].astype(str) + \"/\" + test[\"averageUserRating\"].astype(str)\n",
    "\n",
    "\n",
    "\n",
    "train['developerCountry_primaryGenreName'] = train['developerCountry'].astype(str) + \"/\" + train[\"primaryGenreName\"]\n",
    "test['developerCountry_primaryGenreName'] = test['developerCountry'].astype(str) + \"/\" + test[\"primaryGenreName\"]\n",
    "\n",
    "train['developerCountry_deviceType'] = train['developerCountry'].astype(str) + \"/\" + train[\"deviceType\"]\n",
    "test['developerCountry_deviceType'] = test['developerCountry'].astype(str) + \"/\" + test[\"deviceType\"]\n",
    "\n",
    "train['developerCountry_appDescriptionBrandSafetyRating'] = train['developerCountry'].astype(str) + \"/\" + train[\"appDescriptionBrandSafetyRating\"]\n",
    "test['developerCountry_appDescriptionBrandSafetyRating'] = test['developerCountry'].astype(str) + \"/\" + test[\"appDescriptionBrandSafetyRating\"]\n",
    "\n",
    "train['developerCountry_averageUserRating'] = train['developerCountry'].astype(str) + \"/\" + train[\"averageUserRating\"].astype(str)\n",
    "test['developerCountry_averageUserRating'] = test['developerCountry'].astype(str) + \"/\" + test[\"averageUserRating\"].astype(str)\n",
    "\n",
    "\n",
    "\n",
    "train['primaryGenreName_deviceType'] = train['deviceType'].astype(str) + \"/\" + train[\"primaryGenreName\"]\n",
    "test['primaryGenreName_deviceType'] = test['deviceType'].astype(str) + \"/\" + test[\"primaryGenreName\"]\n",
    "\n",
    "train['primaryGenreName_appDescriptionBrandSafetyRating'] = train['appDescriptionBrandSafetyRating'].astype(str) + \"/\" + train[\"primaryGenreName\"]\n",
    "test['primaryGenreName_appDescriptionBrandSafetyRating'] = test['appDescriptionBrandSafetyRating'].astype(str) + \"/\" + test[\"primaryGenreName\"]\n",
    "\n",
    "train['primaryGenreName_averageUserRating'] = train['appDescriptionBrandSafetyRating'].astype(str) + \"/\" + train[\"averageUserRating\"].astype(str)\n",
    "test['primaryGenreName_averageUserRating'] = test['appDescriptionBrandSafetyRating'].astype(str) + \"/\" + test[\"averageUserRating\"].astype(str)\n",
    "\n",
    "\n",
    "\n",
    "\n",
    "\n",
    "train['deviceType_appDescriptionBrandSafetyRating'] = train['deviceType'].astype(str) + \"/\" + train[\"appDescriptionBrandSafetyRating\"].astype(str)\n",
    "test['deviceType_appDescriptionBrandSafetyRating'] = test['deviceType'].astype(str) + \"/\" + test[\"appDescriptionBrandSafetyRating\"].astype(str)\n",
    "\n",
    "train['deviceType_averageUserRating'] = train['deviceType'].astype(str) + \"/\" + train[\"averageUserRating\"].astype(str)\n",
    "test['deviceType_averageUserRating'] = test['deviceType'].astype(str) + \"/\" + test[\"averageUserRating\"].astype(str)\n",
    "\n",
    "\n",
    "\n",
    "train['averageUserRating_appDescriptionBrandSafetyRating'] = train['averageUserRating'].astype(str) + \"/\" + train[\"appDescriptionBrandSafetyRating\"].astype(str)\n",
    "test['averageUserRating_appDescriptionBrandSafetyRating'] = test['averageUserRating'].astype(str) + \"/\" + test[\"appDescriptionBrandSafetyRating\"].astype(str)\n"
   ]
  },
  {
   "cell_type": "markdown",
   "metadata": {},
   "source": [
    "# **Drop Null & Preprocessing**"
   ]
  },
  {
   "cell_type": "code",
   "execution_count": 8,
   "metadata": {},
   "outputs": [
    {
     "data": {
      "text/plain": [
       "developerCountry                                        0\n",
       "countryCode                                            64\n",
       "userRatingCount                                         0\n",
       "primaryGenreName                                        0\n",
       "downloads                                            2149\n",
       "deviceType                                              0\n",
       "hasPrivacyLink                                        750\n",
       "hasTermsOfServiceLink                                4635\n",
       "hasTermsOfServiceLinkRating                          4635\n",
       "isCorporateEmailScore                                1128\n",
       "adSpent                                              5679\n",
       "appAge                                                 50\n",
       "averageUserRating                                    1232\n",
       "appContentBrandSafetyRating                          6162\n",
       "appDescriptionBrandSafetyRating                         0\n",
       "mfaRating                                               0\n",
       "coppaRisk                                               0\n",
       "countryCodess                                          84\n",
       "countryCode_developerCountry                            0\n",
       "countryCode_primaryGenreName                            0\n",
       "countryCode_deviceType                                  0\n",
       "countryCode_appDescriptionBrandSafetyRating             0\n",
       "countryCode_averageUserRating                           0\n",
       "developerCountry_primaryGenreName                       0\n",
       "developerCountry_deviceType                             0\n",
       "developerCountry_appDescriptionBrandSafetyRating        0\n",
       "developerCountry_averageUserRating                      0\n",
       "primaryGenreName_deviceType                             0\n",
       "primaryGenreName_appDescriptionBrandSafetyRating        0\n",
       "primaryGenreName_averageUserRating                      0\n",
       "deviceType_appDescriptionBrandSafetyRating              0\n",
       "deviceType_averageUserRating                            0\n",
       "averageUserRating_appDescriptionBrandSafetyRating       0\n",
       "dtype: int64"
      ]
     },
     "execution_count": 8,
     "metadata": {},
     "output_type": "execute_result"
    }
   ],
   "source": [
    "train.isna().sum()"
   ]
  },
  {
   "cell_type": "code",
   "execution_count": 9,
   "metadata": {
    "execution": {
     "iopub.execute_input": "2025-04-23T11:11:18.579254Z",
     "iopub.status.busy": "2025-04-23T11:11:18.578884Z",
     "iopub.status.idle": "2025-04-23T11:11:19.350397Z",
     "shell.execute_reply": "2025-04-23T11:11:19.349731Z",
     "shell.execute_reply.started": "2025-04-23T11:11:18.579230Z"
    },
    "trusted": true
   },
   "outputs": [],
   "source": [
    "\n",
    "train = train.drop(['hasTermsOfServiceLink', 'hasTermsOfServiceLinkRating', 'appContentBrandSafetyRating', 'downloads', 'adSpent'], axis=1) \n",
    "test = test.drop(['hasTermsOfServiceLink', 'hasTermsOfServiceLinkRating', 'appContentBrandSafetyRating', 'downloads', 'adSpent'], axis=1) "
   ]
  },
  {
   "cell_type": "code",
   "execution_count": 10,
   "metadata": {
    "execution": {
     "iopub.execute_input": "2025-04-23T11:11:21.008853Z",
     "iopub.status.busy": "2025-04-23T11:11:21.007957Z",
     "iopub.status.idle": "2025-04-23T11:11:22.026036Z",
     "shell.execute_reply": "2025-04-23T11:11:22.025368Z",
     "shell.execute_reply.started": "2025-04-23T11:11:21.008829Z"
    },
    "trusted": true
   },
   "outputs": [],
   "source": [
    "import pandas as pd\n",
    "import numpy as np\n",
    "from category_encoders import TargetEncoder\n",
    "\n",
    "def target_encode(train, test, target_column):\n",
    "    train_encoded = train.copy()\n",
    "    test_encoded = test.copy()\n",
    "\n",
    "    cat_cols = train.select_dtypes(include=['object', 'category']).columns\n",
    "\n",
    "    # Inisialisasi TargetEncoder\n",
    "    encoder = TargetEncoder(cols=cat_cols)\n",
    "\n",
    "    # Fit encoder hanya ke data train\n",
    "    encoder.fit(train_encoded[cat_cols], train_encoded[target_column])\n",
    "\n",
    "    # Transformasi\n",
    "    train_encoded[cat_cols] = encoder.transform(train_encoded[cat_cols])\n",
    "    test_encoded[cat_cols] = encoder.transform(test_encoded[cat_cols])\n",
    "\n",
    "    return train_encoded, test_encoded\n",
    "\n",
    "# Contoh pemanggilan fungsi\n",
    "# Ganti 'fraud' dengan nama kolom target kamu\n",
    "train, test = target_encode(train, test, target_column='coppaRisk')\n",
    "\n",
    "\n",
    "# Replace -1 with NaN for numerical columns only\n",
    "for col in train.columns:\n",
    "    if train[col].dtype in ['int8', 'int16', 'float64', 'int64']:\n",
    "        train[col] = train[col].replace(-1, np.nan)\n",
    "\n",
    "for col in test.columns:\n",
    "    if test[col].dtype in ['int8', 'int16', 'float64', 'int64']:\n",
    "        test[col] = test[col].replace(-1, np.nan)\n"
   ]
  },
  {
   "cell_type": "code",
   "execution_count": 11,
   "metadata": {
    "execution": {
     "iopub.execute_input": "2025-04-23T11:11:22.028309Z",
     "iopub.status.busy": "2025-04-23T11:11:22.027462Z",
     "iopub.status.idle": "2025-04-23T11:11:27.614393Z",
     "shell.execute_reply": "2025-04-23T11:11:27.613462Z",
     "shell.execute_reply.started": "2025-04-23T11:11:22.028287Z"
    },
    "trusted": true
   },
   "outputs": [],
   "source": [
    "\n",
    "# Simpan dan pisahkan target\n",
    "target = train['coppaRisk']\n",
    "train_features = train.drop(columns=['coppaRisk'])\n",
    "\n",
    "# Tambahkan identifier agar bisa dipisah lagi setelah digabung\n",
    "train_features['is_train'] = 1\n",
    "test['is_train'] = 0\n",
    "\n",
    "# Gabungkan\n",
    "combined = pd.concat([train_features, test], axis=0)\n",
    "\n",
    "# Imputasi KNN\n",
    "imputer = KNNImputer(n_neighbors=3)\n",
    "combined_imputed = imputer.fit_transform(combined.drop(columns=['is_train']))\n",
    "\n",
    "# Ubah kembali ke DataFrame\n",
    "combined_imputed_df = pd.DataFrame(combined_imputed, columns=combined.columns.drop('is_train'), index=combined.index)\n",
    "\n",
    "# Pecah lagi jadi train dan test\n",
    "train = combined_imputed_df[combined['is_train'] == 1].copy()\n",
    "test = combined_imputed_df[combined['is_train'] == 0].copy()\n",
    "\n",
    "# Gabungkan kembali target ke train\n",
    "train['coppaRisk'] = target.values\n"
   ]
  },
  {
   "cell_type": "code",
   "execution_count": 12,
   "metadata": {
    "execution": {
     "iopub.execute_input": "2025-04-23T11:11:27.616233Z",
     "iopub.status.busy": "2025-04-23T11:11:27.615881Z",
     "iopub.status.idle": "2025-04-23T11:11:27.621759Z",
     "shell.execute_reply": "2025-04-23T11:11:27.620998Z",
     "shell.execute_reply.started": "2025-04-23T11:11:27.616205Z"
    },
    "trusted": true
   },
   "outputs": [],
   "source": [
    "X = train.drop(['coppaRisk', 'ID'], axis=1)  # ganti dengan nama kolom target\n",
    "y = train['coppaRisk']  # pastikan 0/1\n"
   ]
  },
  {
   "cell_type": "code",
   "execution_count": 13,
   "metadata": {
    "execution": {
     "iopub.execute_input": "2025-04-23T11:11:27.622889Z",
     "iopub.status.busy": "2025-04-23T11:11:27.622665Z",
     "iopub.status.idle": "2025-04-23T11:11:27.642157Z",
     "shell.execute_reply": "2025-04-23T11:11:27.641306Z",
     "shell.execute_reply.started": "2025-04-23T11:11:27.622869Z"
    },
    "trusted": true
   },
   "outputs": [],
   "source": [
    "\n",
    "# Split data 80:20\n",
    "X_train, X_test, y_train, y_test = train_test_split(\n",
    "    X, y, test_size=0.2, random_state=56)"
   ]
  },
  {
   "cell_type": "code",
   "execution_count": 14,
   "metadata": {
    "execution": {
     "iopub.execute_input": "2025-04-23T11:11:27.673659Z",
     "iopub.status.busy": "2025-04-23T11:11:27.673331Z",
     "iopub.status.idle": "2025-04-23T11:11:27.741389Z",
     "shell.execute_reply": "2025-04-23T11:11:27.740564Z",
     "shell.execute_reply.started": "2025-04-23T11:11:27.673639Z"
    },
    "trusted": true
   },
   "outputs": [],
   "source": [
    "\n",
    "\n",
    "# StandardScaler\n",
    "scaler_standard = StandardScaler()\n",
    "scaler_standard.fit(X)\n",
    "X_train_std = scaler_standard.transform(X_train)\n",
    "X_test_std = scaler_standard.transform(X_test)\n",
    "\n",
    "# MinMaxScaler\n",
    "scaler_minmax = MinMaxScaler()\n",
    "scaler_minmax.fit(X)\n",
    "X_train_minmax = scaler_minmax.transform(X_train)\n",
    "X_test_minmax = scaler_minmax.transform(X_test)\n",
    "\n",
    "# RobustScaler\n",
    "scaler_robust = RobustScaler()\n",
    "scaler_robust.fit(X)\n",
    "X_train_robust = scaler_robust.transform(X_train)\n",
    "X_test_robust = scaler_robust.transform(X_test)\n",
    "\n",
    "# MaxAbsScaler (opsional, kalau ingin pakai juga)\n",
    "scaler_maxabs = MaxAbsScaler()\n",
    "scaler_maxabs.fit(X)\n",
    "X_train_maxabs = scaler_maxabs.transform(X_train)\n",
    "X_test_maxabs = scaler_maxabs.transform(X_test)\n"
   ]
  },
  {
   "cell_type": "code",
   "execution_count": 15,
   "metadata": {
    "execution": {
     "iopub.execute_input": "2025-04-23T11:11:40.020060Z",
     "iopub.status.busy": "2025-04-23T11:11:40.019412Z",
     "iopub.status.idle": "2025-04-23T11:11:43.880518Z",
     "shell.execute_reply": "2025-04-23T11:11:43.879643Z",
     "shell.execute_reply.started": "2025-04-23T11:11:40.020037Z"
    },
    "trusted": true
   },
   "outputs": [
    {
     "name": "stdout",
     "output_type": "stream",
     "text": [
      "                                              Feature  Importance\n",
      "12                       countryCode_developerCountry   10.721227\n",
      "17                  developerCountry_primaryGenreName   10.362794\n",
      "7                                              appAge    9.446485\n",
      "3                                    primaryGenreName    9.062736\n",
      "22   primaryGenreName_appDescriptionBrandSafetyRating    8.454762\n",
      "2                                     userRatingCount    5.724224\n",
      "13                       countryCode_primaryGenreName    5.341538\n",
      "20                 developerCountry_averageUserRating    4.818055\n",
      "21                        primaryGenreName_deviceType    4.538444\n",
      "6                               isCorporateEmailScore    3.918080\n",
      "19   developerCountry_appDescriptionBrandSafetyRating    2.986297\n",
      "15        countryCode_appDescriptionBrandSafetyRating    2.673803\n",
      "16                      countryCode_averageUserRating    2.455920\n",
      "8                                   averageUserRating    2.365739\n",
      "14                             countryCode_deviceType    1.980050\n",
      "9                     appDescriptionBrandSafetyRating    1.910184\n",
      "18                        developerCountry_deviceType    1.846430\n",
      "1                                         countryCode    1.776854\n",
      "11                                      countryCodess    1.678580\n",
      "0                                    developerCountry    1.423057\n",
      "25                       deviceType_averageUserRating    1.422929\n",
      "23                 primaryGenreName_averageUserRating    1.348883\n",
      "5                                      hasPrivacyLink    1.295848\n",
      "26  averageUserRating_appDescriptionBrandSafetyRating    1.101192\n",
      "24         deviceType_appDescriptionBrandSafetyRating    0.729030\n",
      "4                                          deviceType    0.581422\n",
      "10                                          mfaRating    0.035437\n"
     ]
    },
    {
     "data": {
      "image/png": "[encoded data removed]",
      "text/plain": [
       "<Figure size 1000x600 with 1 Axes>"
      ]
     },
     "metadata": {},
     "output_type": "display_data"
    }
   ],
   "source": [
    "# Train model\n",
    "model = CatBoostClassifier(verbose=0)\n",
    "model.fit(X_train, y_train)\n",
    "\n",
    "# Ambil feature importance\n",
    "importance = model.feature_importances_\n",
    "features = X.columns\n",
    "\n",
    "# Gabungkan ke DataFrame\n",
    "fi_df = pd.DataFrame({'Feature': features, 'Importance': importance})\n",
    "fi_df = fi_df.sort_values(by='Importance', ascending=False)\n",
    "\n",
    "# Tampilkan\n",
    "print(fi_df)\n",
    "\n",
    "# Plot\n",
    "plt.figure(figsize=(10, 6))\n",
    "plt.barh(fi_df['Feature'], fi_df['Importance'])\n",
    "plt.gca().invert_yaxis()\n",
    "plt.title(\"Feature Importance (gain)\")\n",
    "plt.show()"
   ]
  },
  {
   "cell_type": "markdown",
   "metadata": {},
   "source": [
    "# **Evaluate Model**"
   ]
  },
  {
   "cell_type": "code",
   "execution_count": 16,
   "metadata": {
    "execution": {
     "iopub.execute_input": "2025-04-23T11:11:33.681029Z",
     "iopub.status.busy": "2025-04-23T11:11:33.680439Z",
     "iopub.status.idle": "2025-04-23T11:11:40.018210Z",
     "shell.execute_reply": "2025-04-23T11:11:40.017474Z",
     "shell.execute_reply.started": "2025-04-23T11:11:33.681002Z"
    },
    "trusted": true
   },
   "outputs": [],
   "source": [
    "\n",
    "\n",
    "models = {\n",
    "    \"Logistic Regression\": LogisticRegression(max_iter=1000),\n",
    "    \"Gradient Boosting\": GradientBoostingClassifier(),\n",
    "    \"XGBoost\": XGBClassifier(use_label_encoder=False, eval_metric='logloss'),\n",
    "    \"CatBoost\": CatBoostClassifier(verbose=0),\n",
    "    \"AdaBoost\": AdaBoostClassifier(n_estimators=100),\n",
    "    \"HistGradientBoosting\": HistGradientBoostingClassifier(),\n",
    "    \"Random Forest\": RandomForestClassifier(), \n",
    "}\n"
   ]
  },
  {
   "cell_type": "code",
   "execution_count": null,
   "metadata": {
    "collapsed": true,
    "execution": {
     "execution_failed": "2025-04-23T11:10:34.330Z",
     "iopub.execute_input": "2025-04-23T11:10:04.693201Z",
     "iopub.status.busy": "2025-04-23T11:10:04.692881Z"
    },
    "jupyter": {
     "outputs_hidden": true
    },
    "trusted": true
   },
   "outputs": [
    {
     "name": "stdout",
     "output_type": "stream",
     "text": [
      "\n",
      "[INFO] Using all features\n",
      "\n",
      "Logistic Regression\n",
      "Accuracy        : 0.9043\n",
      "Precision       : 0.0000\n",
      "Recall          : 0.0000\n",
      "F1 Score        : 0.0000\n",
      "F2 Score        : 0.0000\n",
      "Balanced Acc    : 0.4996\n",
      "ROC AUC         : 0.4880\n",
      "\n",
      "Gradient Boosting\n",
      "Accuracy        : 0.9307\n",
      "Precision       : 0.8000\n",
      "Recall          : 0.3609\n",
      "F1 Score        : 0.4974\n",
      "F2 Score        : 0.4054\n",
      "Balanced Acc    : 0.6757\n",
      "ROC AUC         : 0.9401\n",
      "\n",
      "XGBoost\n",
      "Accuracy        : 0.9214\n",
      "Precision       : 0.6264\n",
      "Recall          : 0.4286\n",
      "F1 Score        : 0.5089\n",
      "F2 Score        : 0.4575\n",
      "Balanced Acc    : 0.7009\n",
      "ROC AUC         : 0.9163\n",
      "\n",
      "CatBoost\n",
      "Accuracy        : 0.9243\n",
      "Precision       : 0.6667\n",
      "Recall          : 0.4060\n",
      "F1 Score        : 0.5047\n",
      "F2 Score        : 0.4405\n",
      "Balanced Acc    : 0.6924\n",
      "ROC AUC         : 0.9339\n",
      "[LightGBM] [Info] Number of positive: 563, number of negative: 5037\n",
      "[LightGBM] [Info] Auto-choosing row-wise multi-threading, the overhead of testing was 0.004533 seconds.\n",
      "You can set `force_row_wise=true` to remove the overhead.\n",
      "And if memory is not enough, you can set `force_col_wise=true`.\n",
      "[LightGBM] [Info] Total Bins 1540\n",
      "[LightGBM] [Info] Number of data points in the train set: 5600, number of used features: 26\n",
      "[LightGBM] [Info] [binary:BoostFromScore]: pavg=0.100536 -> initscore=-2.191286\n",
      "[LightGBM] [Info] Start training from score -2.191286\n",
      "\n",
      "LightGBM\n",
      "Accuracy        : 0.9257\n",
      "Precision       : 0.6747\n",
      "Recall          : 0.4211\n",
      "F1 Score        : 0.5185\n",
      "F2 Score        : 0.4553\n",
      "Balanced Acc    : 0.6999\n",
      "ROC AUC         : 0.9305\n",
      "\n",
      "AdaBoost\n",
      "Accuracy        : 0.9336\n",
      "Precision       : 0.8226\n",
      "Recall          : 0.3835\n",
      "F1 Score        : 0.5231\n",
      "F2 Score        : 0.4293\n",
      "Balanced Acc    : 0.6874\n",
      "ROC AUC         : 0.9269\n",
      "\n",
      "HistGradientBoosting\n",
      "Accuracy        : 0.9271\n",
      "Precision       : 0.6824\n",
      "Recall          : 0.4361\n",
      "F1 Score        : 0.5321\n",
      "F2 Score        : 0.4700\n",
      "Balanced Acc    : 0.7074\n",
      "ROC AUC         : 0.9286\n",
      "\n",
      "Random Forest\n",
      "Accuracy        : 0.9150\n",
      "Precision       : 0.5814\n",
      "Recall          : 0.3759\n",
      "F1 Score        : 0.4566\n",
      "F2 Score        : 0.4045\n",
      "Balanced Acc    : 0.6738\n",
      "ROC AUC         : 0.8926\n",
      "\n",
      "[INFO] Dropped feature: developerCountry\n",
      "\n",
      "Logistic Regression\n",
      "Accuracy        : 0.9043\n",
      "Precision       : 0.0000\n",
      "Recall          : 0.0000\n",
      "F1 Score        : 0.0000\n",
      "F2 Score        : 0.0000\n",
      "Balanced Acc    : 0.4996\n",
      "ROC AUC         : 0.4880\n",
      "\n",
      "Gradient Boosting\n",
      "Accuracy        : 0.9271\n",
      "Precision       : 0.7460\n",
      "Recall          : 0.3534\n",
      "F1 Score        : 0.4796\n",
      "F2 Score        : 0.3950\n",
      "Balanced Acc    : 0.6704\n",
      "ROC AUC         : 0.9402\n",
      "\n",
      "XGBoost\n",
      "Accuracy        : 0.9150\n",
      "Precision       : 0.5761\n",
      "Recall          : 0.3985\n",
      "F1 Score        : 0.4711\n",
      "F2 Score        : 0.4247\n",
      "Balanced Acc    : 0.6839\n",
      "ROC AUC         : 0.9181\n",
      "\n",
      "CatBoost\n",
      "Accuracy        : 0.9243\n",
      "Precision       : 0.6667\n",
      "Recall          : 0.4060\n",
      "F1 Score        : 0.5047\n",
      "F2 Score        : 0.4405\n",
      "Balanced Acc    : 0.6924\n",
      "ROC AUC         : 0.9328\n",
      "[LightGBM] [Info] Number of positive: 563, number of negative: 5037\n",
      "[LightGBM] [Info] Auto-choosing row-wise multi-threading, the overhead of testing was 0.000724 seconds.\n",
      "You can set `force_row_wise=true` to remove the overhead.\n",
      "And if memory is not enough, you can set `force_col_wise=true`.\n",
      "[LightGBM] [Info] Total Bins 1489\n",
      "[LightGBM] [Info] Number of data points in the train set: 5600, number of used features: 25\n",
      "[LightGBM] [Info] [binary:BoostFromScore]: pavg=0.100536 -> initscore=-2.191286\n",
      "[LightGBM] [Info] Start training from score -2.191286\n",
      "\n",
      "LightGBM\n",
      "Accuracy        : 0.9271\n",
      "Precision       : 0.6914\n",
      "Recall          : 0.4211\n",
      "F1 Score        : 0.5234\n",
      "F2 Score        : 0.4568\n",
      "Balanced Acc    : 0.7007\n",
      "ROC AUC         : 0.9335\n",
      "\n",
      "AdaBoost\n",
      "Accuracy        : 0.9329\n",
      "Precision       : 0.8197\n",
      "Recall          : 0.3759\n",
      "F1 Score        : 0.5155\n",
      "F2 Score        : 0.4216\n",
      "Balanced Acc    : 0.6836\n",
      "ROC AUC         : 0.9220\n",
      "\n",
      "HistGradientBoosting\n",
      "Accuracy        : 0.9229\n",
      "Precision       : 0.6582\n",
      "Recall          : 0.3910\n",
      "F1 Score        : 0.4906\n",
      "F2 Score        : 0.4255\n",
      "Balanced Acc    : 0.6848\n",
      "ROC AUC         : 0.9281\n",
      "\n",
      "Random Forest\n",
      "Accuracy        : 0.9150\n",
      "Precision       : 0.5761\n",
      "Recall          : 0.3985\n",
      "F1 Score        : 0.4711\n",
      "F2 Score        : 0.4247\n",
      "Balanced Acc    : 0.6839\n",
      "ROC AUC         : 0.8895\n",
      "\n",
      "[INFO] Dropped feature: countryCode\n",
      "\n",
      "Logistic Regression\n",
      "Accuracy        : 0.9043\n",
      "Precision       : 0.0000\n",
      "Recall          : 0.0000\n",
      "F1 Score        : 0.0000\n",
      "F2 Score        : 0.0000\n",
      "Balanced Acc    : 0.4996\n",
      "ROC AUC         : 0.4880\n",
      "\n",
      "Gradient Boosting\n",
      "Accuracy        : 0.9271\n",
      "Precision       : 0.7541\n",
      "Recall          : 0.3459\n",
      "F1 Score        : 0.4742\n",
      "F2 Score        : 0.3879\n",
      "Balanced Acc    : 0.6670\n",
      "ROC AUC         : 0.9392\n",
      "\n",
      "XGBoost\n",
      "Accuracy        : 0.9200\n",
      "Precision       : 0.6154\n",
      "Recall          : 0.4211\n",
      "F1 Score        : 0.5000\n",
      "F2 Score        : 0.4494\n",
      "Balanced Acc    : 0.6967\n",
      "ROC AUC         : 0.9188\n",
      "\n",
      "CatBoost\n",
      "Accuracy        : 0.9221\n",
      "Precision       : 0.6538\n",
      "Recall          : 0.3835\n",
      "F1 Score        : 0.4834\n",
      "F2 Score        : 0.4180\n",
      "Balanced Acc    : 0.6811\n",
      "ROC AUC         : 0.9323\n",
      "[LightGBM] [Info] Number of positive: 563, number of negative: 5037\n",
      "[LightGBM] [Info] Auto-choosing row-wise multi-threading, the overhead of testing was 0.000598 seconds.\n",
      "You can set `force_row_wise=true` to remove the overhead.\n",
      "And if memory is not enough, you can set `force_col_wise=true`.\n",
      "[LightGBM] [Info] Total Bins 1481\n",
      "[LightGBM] [Info] Number of data points in the train set: 5600, number of used features: 25\n",
      "[LightGBM] [Info] [binary:BoostFromScore]: pavg=0.100536 -> initscore=-2.191286\n",
      "[LightGBM] [Info] Start training from score -2.191286\n",
      "\n",
      "LightGBM\n",
      "Accuracy        : 0.9214\n",
      "Precision       : 0.6237\n",
      "Recall          : 0.4361\n",
      "F1 Score        : 0.5133\n",
      "F2 Score        : 0.4640\n",
      "Balanced Acc    : 0.7042\n",
      "ROC AUC         : 0.9323\n",
      "\n",
      "AdaBoost\n",
      "Accuracy        : 0.9293\n",
      "Precision       : 0.7833\n",
      "Recall          : 0.3534\n",
      "F1 Score        : 0.4870\n",
      "F2 Score        : 0.3970\n",
      "Balanced Acc    : 0.6716\n",
      "ROC AUC         : 0.9271\n",
      "\n",
      "HistGradientBoosting\n",
      "Accuracy        : 0.9257\n",
      "Precision       : 0.6883\n",
      "Recall          : 0.3985\n",
      "F1 Score        : 0.5048\n",
      "F2 Score        : 0.4351\n",
      "Balanced Acc    : 0.6898\n",
      "ROC AUC         : 0.9252\n",
      "\n",
      "Random Forest\n",
      "Accuracy        : 0.9143\n",
      "Precision       : 0.5699\n",
      "Recall          : 0.3985\n",
      "F1 Score        : 0.4690\n",
      "F2 Score        : 0.4240\n",
      "Balanced Acc    : 0.6835\n",
      "ROC AUC         : 0.8920\n",
      "\n",
      "[INFO] Dropped feature: userRatingCount\n",
      "\n",
      "Logistic Regression\n",
      "Accuracy        : 0.9221\n",
      "Precision       : 0.7727\n",
      "Recall          : 0.2556\n",
      "F1 Score        : 0.3842\n",
      "F2 Score        : 0.2951\n",
      "Balanced Acc    : 0.6239\n",
      "ROC AUC         : 0.9126\n",
      "\n",
      "Gradient Boosting\n",
      "Accuracy        : 0.9257\n",
      "Precision       : 0.7377\n",
      "Recall          : 0.3383\n",
      "F1 Score        : 0.4639\n",
      "F2 Score        : 0.3794\n",
      "Balanced Acc    : 0.6629\n",
      "ROC AUC         : 0.9384\n",
      "\n",
      "XGBoost\n",
      "Accuracy        : 0.9193\n",
      "Precision       : 0.6087\n",
      "Recall          : 0.4211\n",
      "F1 Score        : 0.4978\n",
      "F2 Score        : 0.4487\n",
      "Balanced Acc    : 0.6963\n",
      "ROC AUC         : 0.9206\n"
     ]
    }
   ],
   "source": [
    "\"\"\"from sklearn.metrics import (\n",
    "    accuracy_score, precision_score, recall_score,\n",
    "    f1_score, fbeta_score, balanced_accuracy_score,\n",
    "    roc_auc_score\n",
    ")\n",
    "import pandas as pd\n",
    "\n",
    "# Inisialisasi dictionary untuk menyimpan skor\n",
    "all_scores = []\n",
    "\n",
    "feature_names = X_train.columns.tolist()\n",
    "\n",
    "# Tambahkan None di awal agar loop pertama tidak drop kolom apapun\n",
    "for dropped_feature in [None] + feature_names:\n",
    "    # Buat salinan agar data asli tidak berubah\n",
    "    X_train_mod = X_train.copy()\n",
    "    X_test_mod = X_test.copy()\n",
    "\n",
    "    # Drop fitur jika ada yang mau di-drop\n",
    "    if dropped_feature is not None:\n",
    "        X_train_mod = X_train_mod.drop(columns=[dropped_feature])\n",
    "        X_test_mod = X_test_mod.drop(columns=[dropped_feature])\n",
    "        print(f\"\\n[INFO] Dropped feature: {dropped_feature}\")\n",
    "    else:\n",
    "        print(\"\\n[INFO] Using all features\")\n",
    "\n",
    "    for name, model in models.items():\n",
    "        # Fit model\n",
    "        model.fit(X_train_mod, y_train)\n",
    "\n",
    "        # Prediksi\n",
    "        y_pred = model.predict(X_test_mod)\n",
    "\n",
    "        # Probabilitas untuk ROC AUC\n",
    "        if hasattr(model, \"predict_proba\"):\n",
    "            y_proba = model.predict_proba(X_test_mod)[:, 1]\n",
    "        else:\n",
    "            y_proba = None\n",
    "\n",
    "        # Simpan skor ke dictionary\n",
    "        scores = {\n",
    "            \"Dropped_Feature\": dropped_feature if dropped_feature else \"None\",\n",
    "            \"Model\": name,\n",
    "            \"Accuracy\": accuracy_score(y_test, y_pred),\n",
    "            \"Precision\": precision_score(y_test, y_pred, zero_division=0),\n",
    "            \"Recall\": recall_score(y_test, y_pred, zero_division=0),\n",
    "            \"F1\": f1_score(y_test, y_pred, zero_division=0),\n",
    "            \"F2\": fbeta_score(y_test, y_pred, beta=2, zero_division=0),\n",
    "            \"Balanced_Accuracy\": balanced_accuracy_score(y_test, y_pred),\n",
    "            \"ROC_AUC\": roc_auc_score(y_test, y_proba) if y_proba is not None else None\n",
    "        }\n",
    "        all_scores.append(scores)\n",
    "\n",
    "        # Tampilkan hasil\n",
    "        print(f\"\\n{name}\")\n",
    "        print(f\"Accuracy        : {scores['Accuracy']:.4f}\")\n",
    "        print(f\"Precision       : {scores['Precision']:.4f}\")\n",
    "        print(f\"Recall          : {scores['Recall']:.4f}\")\n",
    "        print(f\"F1 Score        : {scores['F1']:.4f}\")\n",
    "        print(f\"F2 Score        : {scores['F2']:.4f}\")\n",
    "        print(f\"Balanced Acc    : {scores['Balanced_Accuracy']:.4f}\")\n",
    "        print(f\"ROC AUC         : {scores['ROC_AUC']:.4f}\" if scores['ROC_AUC'] is not None else \"ROC AUC         : N/A\")\n",
    "\n",
    "# Ubah hasil ke DataFrame untuk visualisasi atau export\n",
    "result_df = pd.DataFrame(all_scores)\n",
    "\"\"\""
   ]
  },
  {
   "cell_type": "code",
   "execution_count": 17,
   "metadata": {
    "execution": {
     "iopub.execute_input": "2025-04-23T11:12:12.609489Z",
     "iopub.status.busy": "2025-04-23T11:12:12.609180Z",
     "iopub.status.idle": "2025-04-23T11:12:20.923032Z",
     "shell.execute_reply": "2025-04-23T11:12:20.922194Z",
     "shell.execute_reply.started": "2025-04-23T11:12:12.609470Z"
    },
    "trusted": true
   },
   "outputs": [
    {
     "name": "stderr",
     "output_type": "stream",
     "text": [
      "/Users/faizralvi/Library/Python/3.9/lib/python/site-packages/sklearn/linear_model/_logistic.py:469: ConvergenceWarning: lbfgs failed to converge (status=1):\n",
      "STOP: TOTAL NO. of ITERATIONS REACHED LIMIT.\n",
      "\n",
      "Increase the number of iterations (max_iter) or scale the data as shown in:\n",
      "    https://scikit-learn.org/stable/modules/preprocessing.html\n",
      "Please also refer to the documentation for alternative solver options:\n",
      "    https://scikit-learn.org/stable/modules/linear_model.html#logistic-regression\n",
      "  n_iter_i = _check_optimize_result(\n"
     ]
    },
    {
     "name": "stdout",
     "output_type": "stream",
     "text": [
      "Logistic Regression - Accuracy: 0.9257\n",
      "Gradient Boosting - Accuracy: 0.9293\n",
      "XGBoost - Accuracy: 0.9179\n",
      "CatBoost - Accuracy: 0.9250\n"
     ]
    },
    {
     "name": "stderr",
     "output_type": "stream",
     "text": [
      "/Users/faizralvi/Library/Python/3.9/lib/python/site-packages/sklearn/ensemble/_weight_boosting.py:527: FutureWarning: The SAMME.R algorithm (the default) is deprecated and will be removed in 1.6. Use the SAMME algorithm to circumvent this warning.\n",
      "  warnings.warn(\n"
     ]
    },
    {
     "name": "stdout",
     "output_type": "stream",
     "text": [
      "AdaBoost - Accuracy: 0.9336\n",
      "HistGradientBoosting - Accuracy: 0.9243\n",
      "Random Forest - Accuracy: 0.9107\n"
     ]
    }
   ],
   "source": [
    "accuracy_scores = {}\n",
    "\n",
    "for name, model in models.items():\n",
    "    model.fit(X_train_robust, y_train)\n",
    "    y_pred = model.predict(X_test_robust)\n",
    "    acc = accuracy_score(y_test, y_pred)\n",
    "    accuracy_scores[name] = acc\n",
    "    print(f\"{name} - Accuracy: {acc:.4f}\")\n"
   ]
  },
  {
   "cell_type": "code",
   "execution_count": 18,
   "metadata": {
    "execution": {
     "iopub.execute_input": "2025-04-23T11:12:58.362666Z",
     "iopub.status.busy": "2025-04-23T11:12:58.362343Z",
     "iopub.status.idle": "2025-04-23T11:13:05.733203Z",
     "shell.execute_reply": "2025-04-23T11:13:05.732370Z",
     "shell.execute_reply.started": "2025-04-23T11:12:58.362642Z"
    },
    "trusted": true
   },
   "outputs": [
    {
     "name": "stderr",
     "output_type": "stream",
     "text": [
      "/Users/faizralvi/Library/Python/3.9/lib/python/site-packages/sklearn/linear_model/_logistic.py:469: ConvergenceWarning: lbfgs failed to converge (status=1):\n",
      "STOP: TOTAL NO. of ITERATIONS REACHED LIMIT.\n",
      "\n",
      "Increase the number of iterations (max_iter) or scale the data as shown in:\n",
      "    https://scikit-learn.org/stable/modules/preprocessing.html\n",
      "Please also refer to the documentation for alternative solver options:\n",
      "    https://scikit-learn.org/stable/modules/linear_model.html#logistic-regression\n",
      "  n_iter_i = _check_optimize_result(\n"
     ]
    },
    {
     "name": "stdout",
     "output_type": "stream",
     "text": [
      "Logistic Regression - AUC: 0.9112\n",
      "Gradient Boosting - AUC: 0.9401\n",
      "XGBoost - AUC: 0.9164\n",
      "CatBoost - AUC: 0.9334\n"
     ]
    },
    {
     "name": "stderr",
     "output_type": "stream",
     "text": [
      "/Users/faizralvi/Library/Python/3.9/lib/python/site-packages/sklearn/ensemble/_weight_boosting.py:527: FutureWarning: The SAMME.R algorithm (the default) is deprecated and will be removed in 1.6. Use the SAMME algorithm to circumvent this warning.\n",
      "  warnings.warn(\n"
     ]
    },
    {
     "name": "stdout",
     "output_type": "stream",
     "text": [
      "AdaBoost - AUC: 0.9269\n",
      "HistGradientBoosting - AUC: 0.9291\n",
      "Random Forest - AUC: 0.8853\n"
     ]
    }
   ],
   "source": [
    "auc_scores = {}\n",
    "\n",
    "for name, model in models.items():\n",
    "    model.fit(X_train_robust, y_train)\n",
    "    y_pred_prob = model.predict_proba(X_test_robust)[:, 1]\n",
    "    auc = roc_auc_score(y_test, y_pred_prob)\n",
    "    auc_scores[name] = auc\n",
    "    print(f\"{name} - AUC: {auc:.4f}\")\n"
   ]
  },
  {
   "cell_type": "code",
   "execution_count": 20,
   "metadata": {
    "execution": {
     "iopub.execute_input": "2025-04-23T11:13:56.762965Z",
     "iopub.status.busy": "2025-04-23T11:13:56.762626Z",
     "iopub.status.idle": "2025-04-23T11:14:00.354360Z",
     "shell.execute_reply": "2025-04-23T11:14:00.353480Z",
     "shell.execute_reply.started": "2025-04-23T11:13:56.762941Z"
    },
    "trusted": true
   },
   "outputs": [
    {
     "name": "stdout",
     "output_type": "stream",
     "text": [
      "\n",
      "AUC: 0.9408\n"
     ]
    }
   ],
   "source": [
    "\n",
    "\n",
    "# Buat Voting Classifier (soft voting)\n",
    "voting_clf = VotingClassifier(estimators=[('dt', CatBoostClassifier(verbose=0, max_depth= 3)), ('svc', GradientBoostingClassifier(max_depth= 3))],voting='soft')\n",
    "\n",
    "# Fit dan evaluasi\n",
    "voting_clf.fit(X_train, y_train)\n",
    "voting_pred_prob = voting_clf.predict_proba(X_test)[:, 1]\n",
    "voting_auc = roc_auc_score(y_test, voting_pred_prob)\n",
    "\n",
    "print(f\"\\nAUC: {voting_auc:.4f}\")\n"
   ]
  },
  {
   "cell_type": "markdown",
   "metadata": {},
   "source": [
    "# **Prediksi Model & Submision file**"
   ]
  },
  {
   "cell_type": "code",
   "execution_count": null,
   "metadata": {
    "execution": {
     "iopub.execute_input": "2025-04-23T11:14:21.342279Z",
     "iopub.status.busy": "2025-04-23T11:14:21.341421Z",
     "iopub.status.idle": "2025-04-23T11:14:25.581870Z",
     "shell.execute_reply": "2025-04-23T11:14:25.580985Z",
     "shell.execute_reply.started": "2025-04-23T11:14:21.342245Z"
    },
    "trusted": true
   },
   "outputs": [
    {
     "name": "stderr",
     "output_type": "stream",
     "text": [
      "/usr/local/lib/python3.11/dist-packages/sklearn/base.py:432: UserWarning: X has feature names, but RobustScaler was fitted without feature names\n",
      "  warnings.warn(\n",
      "/usr/local/lib/python3.11/dist-packages/sklearn/base.py:432: UserWarning: X has feature names, but RobustScaler was fitted without feature names\n",
      "  warnings.warn(\n"
     ]
    },
    {
     "data": {
      "text/html": [
       "<div>\n",
       "<style scoped>\n",
       "    .dataframe tbody tr th:only-of-type {\n",
       "        vertical-align: middle;\n",
       "    }\n",
       "\n",
       "    .dataframe tbody tr th {\n",
       "        vertical-align: top;\n",
       "    }\n",
       "\n",
       "    .dataframe thead th {\n",
       "        text-align: right;\n",
       "    }\n",
       "</style>\n",
       "<table border=\"1\" class=\"dataframe\">\n",
       "  <thead>\n",
       "    <tr style=\"text-align: right;\">\n",
       "      <th></th>\n",
       "      <th>ID</th>\n",
       "      <th>coppaRisk</th>\n",
       "    </tr>\n",
       "  </thead>\n",
       "  <tbody>\n",
       "    <tr>\n",
       "      <th>0</th>\n",
       "      <td>2807</td>\n",
       "      <td>0.003775</td>\n",
       "    </tr>\n",
       "    <tr>\n",
       "      <th>1</th>\n",
       "      <td>1742</td>\n",
       "      <td>0.014604</td>\n",
       "    </tr>\n",
       "    <tr>\n",
       "      <th>2</th>\n",
       "      <td>806</td>\n",
       "      <td>0.735837</td>\n",
       "    </tr>\n",
       "    <tr>\n",
       "      <th>3</th>\n",
       "      <td>2635</td>\n",
       "      <td>0.019329</td>\n",
       "    </tr>\n",
       "    <tr>\n",
       "      <th>4</th>\n",
       "      <td>9047</td>\n",
       "      <td>0.003417</td>\n",
       "    </tr>\n",
       "    <tr>\n",
       "      <th>...</th>\n",
       "      <td>...</td>\n",
       "      <td>...</td>\n",
       "    </tr>\n",
       "    <tr>\n",
       "      <th>2995</th>\n",
       "      <td>2288</td>\n",
       "      <td>0.014771</td>\n",
       "    </tr>\n",
       "    <tr>\n",
       "      <th>2996</th>\n",
       "      <td>5541</td>\n",
       "      <td>0.003094</td>\n",
       "    </tr>\n",
       "    <tr>\n",
       "      <th>2997</th>\n",
       "      <td>9259</td>\n",
       "      <td>0.003512</td>\n",
       "    </tr>\n",
       "    <tr>\n",
       "      <th>2998</th>\n",
       "      <td>3477</td>\n",
       "      <td>0.003123</td>\n",
       "    </tr>\n",
       "    <tr>\n",
       "      <th>2999</th>\n",
       "      <td>6406</td>\n",
       "      <td>0.004217</td>\n",
       "    </tr>\n",
       "  </tbody>\n",
       "</table>\n",
       "<p>3000 rows × 2 columns</p>\n",
       "</div>"
      ],
      "text/plain": [
       "        ID  coppaRisk\n",
       "0     2807   0.003775\n",
       "1     1742   0.014604\n",
       "2      806   0.735837\n",
       "3     2635   0.019329\n",
       "4     9047   0.003417\n",
       "...    ...        ...\n",
       "2995  2288   0.014771\n",
       "2996  5541   0.003094\n",
       "2997  9259   0.003512\n",
       "2998  3477   0.003123\n",
       "2999  6406   0.004217\n",
       "\n",
       "[3000 rows x 2 columns]"
      ]
     },
     "execution_count": 45,
     "metadata": {},
     "output_type": "execute_result"
    }
   ],
   "source": [
    "\n",
    "scaler_robust.fit(np.concatenate([X, test.drop(columns=['ID'])]))\n",
    "X_minmax = scaler_robust.transform(X)\n",
    "test_minmax = scaler_robust.transform(test.drop(columns=['ID']))\n",
    "\n",
    "voting_clf.fit(X_minmax, y)\n",
    "\n",
    "voting_pred_prob = voting_clf.predict_proba(test_minmax)[:, 1]\n",
    "\n",
    "\n",
    "id[\"coppaRisk\"] = voting_pred_prob\n",
    "id[\"ID\"] = id[\"ID\"].astype(int)\n",
    "id\n"
   ]
  },
  {
   "cell_type": "code",
   "execution_count": 25,
   "metadata": {
    "execution": {
     "iopub.execute_input": "2025-04-23T11:14:25.584085Z",
     "iopub.status.busy": "2025-04-23T11:14:25.583381Z",
     "iopub.status.idle": "2025-04-23T11:14:25.600081Z",
     "shell.execute_reply": "2025-04-23T11:14:25.599227Z",
     "shell.execute_reply.started": "2025-04-23T11:14:25.583951Z"
    },
    "trusted": true
   },
   "outputs": [
    {
     "data": {
      "text/html": [
       "<div>\n",
       "<style scoped>\n",
       "    .dataframe tbody tr th:only-of-type {\n",
       "        vertical-align: middle;\n",
       "    }\n",
       "\n",
       "    .dataframe tbody tr th {\n",
       "        vertical-align: top;\n",
       "    }\n",
       "\n",
       "    .dataframe thead th {\n",
       "        text-align: right;\n",
       "    }\n",
       "</style>\n",
       "<table border=\"1\" class=\"dataframe\">\n",
       "  <thead>\n",
       "    <tr style=\"text-align: right;\">\n",
       "      <th></th>\n",
       "      <th>ID</th>\n",
       "      <th>coppaRisk</th>\n",
       "    </tr>\n",
       "  </thead>\n",
       "  <tbody>\n",
       "    <tr>\n",
       "      <th>0</th>\n",
       "      <td>2807</td>\n",
       "      <td>NaN</td>\n",
       "    </tr>\n",
       "    <tr>\n",
       "      <th>1</th>\n",
       "      <td>1742</td>\n",
       "      <td>NaN</td>\n",
       "    </tr>\n",
       "    <tr>\n",
       "      <th>2</th>\n",
       "      <td>806</td>\n",
       "      <td>NaN</td>\n",
       "    </tr>\n",
       "    <tr>\n",
       "      <th>3</th>\n",
       "      <td>2635</td>\n",
       "      <td>NaN</td>\n",
       "    </tr>\n",
       "    <tr>\n",
       "      <th>4</th>\n",
       "      <td>9047</td>\n",
       "      <td>NaN</td>\n",
       "    </tr>\n",
       "    <tr>\n",
       "      <th>...</th>\n",
       "      <td>...</td>\n",
       "      <td>...</td>\n",
       "    </tr>\n",
       "    <tr>\n",
       "      <th>2995</th>\n",
       "      <td>2288</td>\n",
       "      <td>NaN</td>\n",
       "    </tr>\n",
       "    <tr>\n",
       "      <th>2996</th>\n",
       "      <td>5541</td>\n",
       "      <td>NaN</td>\n",
       "    </tr>\n",
       "    <tr>\n",
       "      <th>2997</th>\n",
       "      <td>9259</td>\n",
       "      <td>NaN</td>\n",
       "    </tr>\n",
       "    <tr>\n",
       "      <th>2998</th>\n",
       "      <td>3477</td>\n",
       "      <td>NaN</td>\n",
       "    </tr>\n",
       "    <tr>\n",
       "      <th>2999</th>\n",
       "      <td>6406</td>\n",
       "      <td>NaN</td>\n",
       "    </tr>\n",
       "  </tbody>\n",
       "</table>\n",
       "<p>3000 rows × 2 columns</p>\n",
       "</div>"
      ],
      "text/plain": [
       "        ID  coppaRisk\n",
       "0     2807        NaN\n",
       "1     1742        NaN\n",
       "2      806        NaN\n",
       "3     2635        NaN\n",
       "4     9047        NaN\n",
       "...    ...        ...\n",
       "2995  2288        NaN\n",
       "2996  5541        NaN\n",
       "2997  9259        NaN\n",
       "2998  3477        NaN\n",
       "2999  6406        NaN\n",
       "\n",
       "[3000 rows x 2 columns]"
      ]
     },
     "execution_count": 25,
     "metadata": {},
     "output_type": "execute_result"
    }
   ],
   "source": [
    "sub = pd.read_csv(\"/Users/faizralvi/Documents/Find-IT/dataset/submission_format.csv\")\n",
    "sub"
   ]
  },
  {
   "cell_type": "code",
   "execution_count": 28,
   "metadata": {
    "execution": {
     "iopub.execute_input": "2025-04-23T11:15:04.913888Z",
     "iopub.status.busy": "2025-04-23T11:15:04.913502Z",
     "iopub.status.idle": "2025-04-23T11:15:04.927791Z",
     "shell.execute_reply": "2025-04-23T11:15:04.926980Z",
     "shell.execute_reply.started": "2025-04-23T11:15:04.913863Z"
    },
    "trusted": true
   },
   "outputs": [
    {
     "data": {
      "text/html": [
       "<div>\n",
       "<style scoped>\n",
       "    .dataframe tbody tr th:only-of-type {\n",
       "        vertical-align: middle;\n",
       "    }\n",
       "\n",
       "    .dataframe tbody tr th {\n",
       "        vertical-align: top;\n",
       "    }\n",
       "\n",
       "    .dataframe thead th {\n",
       "        text-align: right;\n",
       "    }\n",
       "</style>\n",
       "<table border=\"1\" class=\"dataframe\">\n",
       "  <thead>\n",
       "    <tr style=\"text-align: right;\">\n",
       "      <th></th>\n",
       "      <th>ID</th>\n",
       "    </tr>\n",
       "  </thead>\n",
       "  <tbody>\n",
       "    <tr>\n",
       "      <th>0</th>\n",
       "      <td>2807</td>\n",
       "    </tr>\n",
       "    <tr>\n",
       "      <th>1</th>\n",
       "      <td>1742</td>\n",
       "    </tr>\n",
       "    <tr>\n",
       "      <th>2</th>\n",
       "      <td>806</td>\n",
       "    </tr>\n",
       "    <tr>\n",
       "      <th>3</th>\n",
       "      <td>2635</td>\n",
       "    </tr>\n",
       "    <tr>\n",
       "      <th>4</th>\n",
       "      <td>9047</td>\n",
       "    </tr>\n",
       "    <tr>\n",
       "      <th>...</th>\n",
       "      <td>...</td>\n",
       "    </tr>\n",
       "    <tr>\n",
       "      <th>2995</th>\n",
       "      <td>2288</td>\n",
       "    </tr>\n",
       "    <tr>\n",
       "      <th>2996</th>\n",
       "      <td>5541</td>\n",
       "    </tr>\n",
       "    <tr>\n",
       "      <th>2997</th>\n",
       "      <td>9259</td>\n",
       "    </tr>\n",
       "    <tr>\n",
       "      <th>2998</th>\n",
       "      <td>3477</td>\n",
       "    </tr>\n",
       "    <tr>\n",
       "      <th>2999</th>\n",
       "      <td>6406</td>\n",
       "    </tr>\n",
       "  </tbody>\n",
       "</table>\n",
       "<p>3000 rows × 1 columns</p>\n",
       "</div>"
      ],
      "text/plain": [
       "        ID\n",
       "0     2807\n",
       "1     1742\n",
       "2      806\n",
       "3     2635\n",
       "4     9047\n",
       "...    ...\n",
       "2995  2288\n",
       "2996  5541\n",
       "2997  9259\n",
       "2998  3477\n",
       "2999  6406\n",
       "\n",
       "[3000 rows x 1 columns]"
      ]
     },
     "execution_count": 28,
     "metadata": {},
     "output_type": "execute_result"
    }
   ],
   "source": [
    "# Gabungkan berdasarkan kolom ID\n",
    "merged = sub.drop(columns=['coppaRisk']).merge(id, on='ID', how='left')\n",
    "merged"
   ]
  },
  {
   "cell_type": "code",
   "execution_count": 29,
   "metadata": {
    "execution": {
     "iopub.execute_input": "2025-04-23T11:15:06.915882Z",
     "iopub.status.busy": "2025-04-23T11:15:06.915054Z",
     "iopub.status.idle": "2025-04-23T11:15:06.930597Z",
     "shell.execute_reply": "2025-04-23T11:15:06.929424Z",
     "shell.execute_reply.started": "2025-04-23T11:15:06.915855Z"
    },
    "trusted": true
   },
   "outputs": [],
   "source": [
    "merged.to_csv('submission.csv', index=False)"
   ]
  }
 ],
 "metadata": {
  "kaggle": {
   "accelerator": "none",
   "dataSources": [
    {
     "datasetId": 7111033,
     "sourceId": 11361582,
     "sourceType": "datasetVersion"
    },
    {
     "datasetId": 7136453,
     "sourceId": 11394893,
     "sourceType": "datasetVersion"
    },
    {
     "datasetId": 7192619,
     "sourceId": 11476316,
     "sourceType": "datasetVersion"
    },
    {
     "datasetId": 7192768,
     "sourceId": 11476513,
     "sourceType": "datasetVersion"
    },
    {
     "datasetId": 7207215,
     "sourceId": 11496858,
     "sourceType": "datasetVersion"
    },
    {
     "datasetId": 7221058,
     "sourceId": 11514916,
     "sourceType": "datasetVersion"
    }
   ],
   "dockerImageVersionId": 31012,
   "isGpuEnabled": false,
   "isInternetEnabled": true,
   "language": "python",
   "sourceType": "notebook"
  },
  "kernelspec": {
   "display_name": "Python 3",
   "language": "python",
   "name": "python3"
  },
  "language_info": {
   "codemirror_mode": {
    "name": "ipython",
    "version": 3
   },
   "file_extension": ".py",
   "mimetype": "text/x-python",
   "name": "python",
   "nbconvert_exporter": "python",
   "pygments_lexer": "ipython3",
   "version": "3.9.6"
  }
 },
 "nbformat": 4,
 "nbformat_minor": 4
}
